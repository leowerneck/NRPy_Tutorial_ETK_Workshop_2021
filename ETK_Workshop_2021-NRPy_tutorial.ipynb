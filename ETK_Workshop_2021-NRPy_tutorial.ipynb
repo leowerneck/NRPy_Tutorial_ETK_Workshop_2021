{
 "cells": [
  {
   "cell_type": "markdown",
   "id": "db4d0230",
   "metadata": {},
   "source": [
    "# North American Einstein Toolkit School 2021: NRPy+ Tutorial\n",
    "## Authors: Leo Werneck, Zach Etienne, Thiago Assumpção, Terrence Pierre-Jacques, Patrick Nelson\n",
    "\n",
    "<table><tr>\n",
    "    <td style=\"background-color: white;\">\n",
    "        <a href=http://nrpyplus.net>\n",
    "            <img src=https://github.com/leowerneck/NRPy_Tutorial_ETK_Workshop_2021/blob/main/logos/Nerpy.png?raw=true style=\"width: 150px;\" />\n",
    "        </a>\n",
    "     </td>\n",
    "    <td style=\"background-color: white;\"> \n",
    "        <a href=https://www.wvu.edu>\n",
    "            <img src=https://github.com/leowerneck/NRPy_Tutorial_ETK_Workshop_2021/blob/main/logos/WVU.png?raw=true style=\"width: 250px;\"/>\n",
    "        </a>\n",
    "    </td>\n",
    "    <td style=\"background-color: white;\">\n",
    "        <a href=https://www.uidaho.edu>\n",
    "            <img src=https://github.com/leowerneck/NRPy_Tutorial_ETK_Workshop_2021/blob/main/logos/Idaho.png?raw=true style=\"width: 250px;\"/>\n",
    "        </a>\n",
    "    </td>\n",
    "    <td style=\"background-color: white;\">\n",
    "        <a href=https://einsteintoolkit.org>\n",
    "            <img src=https://github.com/leowerneck/NRPy_Tutorial_ETK_Workshop_2021/blob/main/logos/ETK.png?raw=true style=\"width: 125px;\"/>\n",
    "        </a>\n",
    "    </td>\n",
    "    <td style=\"background-color: white;\">\n",
    "        <a href=https://www.nsf.gov>\n",
    "            <img src=https://github.com/leowerneck/NRPy_Tutorial_ETK_Workshop_2021/blob/main/logos/NSF.jpg?raw=true style=\"width: 125px;\"/>\n",
    "        </a>\n",
    "    </td>\n",
    "</tr></table>"
   ]
  },
  {
   "cell_type": "markdown",
   "id": "6651f99d",
   "metadata": {},
   "source": [
    "<a id='toc'></a>\n",
    "\n",
    "# Table of Contents\n",
    "$$\\label{toc}$$\n",
    "\n",
    "This tutorial notebook is organized as follows:\n",
    "\n",
    "0. [Step 0](#introduction): Introduction\n",
    "    1. [Step 0.a](#maxwell_equations): Maxwell's equations in vacuum, flat space, and Cartesian coordinates\n",
    "    1. [Step 0.b](#potential_formulation_maxwell_equations): Potential formulation of Maxwell's equations\n",
    "    1. [Step 0.c](#hyperbolicity_maxwell_equations): Improving the hyperbolicity of Maxwell's equations\n",
    "    1. [Step 0.d](#systems_I_and_II): Systems I & II\n",
    "1. [Step 1](#implementation): Part I - Implementation of the core equations in Curvilinear coordinates\n",
    "    1. [Step 1.a](#initializenrpy): Initialize core Python/NRPy+ modules\n",
    "    1. [Step 1.b](#equations): The equations\n",
    "    1. [Step 1.c](#c_code_generation): Generating C code kernels from the symbolic expressions\n",
    "1. [Step 2](#thorn_writing): Part II - Einstein Toolkit thorn writing\n",
    "    1. [Step 2.a](#main_function): The thorn's driver/main function\n",
    "    1. [Step 2.b](#ccl_files): Thorn configuration files\n",
    "        1. [Step 2.b.i](#param_ccl): Generating the `param.ccl` file\n",
    "        1. [Step 2.b.ii](#interface_ccl): Generating the `interface.ccl` file\n",
    "        1. [Step 2.b.iii](#schedule_ccl): Generating the `schedule.ccl` file\n",
    "        1. [Step 2.b.iv](#configuration_ccl): Generating the `configuration.ccl` file\n",
    "        1. [Step 2.b.v](#make_code_defn): Generating the `make.code.defn` file\n",
    "1. [Step 3](#results): Part III - Results\n",
    "1. [Step 4](#latex_pdf_output): Output this notebook to $\\LaTeX$-formatted PDF file"
   ]
  },
  {
   "cell_type": "markdown",
   "id": "0c2c31c3",
   "metadata": {},
   "source": [
    "<a id='introduction'></a>\n",
    "\n",
    "# Step 0: Introduction \\[Back to [top](#toc)\\]\n",
    "$$\\label{introduction}$$\n",
    "\n",
    "In this tutorial we will provide a hands-on introduction on how to use the [NRPy+ infrastructure](http://nrpyplus.net) to write thorns for the [Einstein Toolkit (ETK)](https://einsteintoolkit.org). Although we will give an overview of NRPy+ and provide a high level description of some of its modules, we do not aim to thoroughly describe every aspect of the infrastructure. For more details on NRPy+'s inner workings, we refer the reader to:\n",
    "\n",
    "* [NRPy+'s extensive & pedagogical documentation](https://mybinder.org/v2/gh/zachetienne/nrpytutorial/master?filepath=NRPyPlus_Tutorial.ipynb)\n",
    "* [NRPy+ tutorial from the 2020 ETK workshop by Zach Etienne](https://www.youtube.com/watch?v=TIPiW5-mPOM)"
   ]
  },
  {
   "cell_type": "markdown",
   "id": "a05d2f90",
   "metadata": {},
   "source": [
    "<hr style=\"width:100%;height:3px;color:black\"/>\n",
    "\n",
    "<a id='maxwell_equations'></a>\n",
    "\n",
    "## Step 0.a: Maxwell's equations in vacuum, flat space, and Cartesian coordinates \\[Back to [top](#toc)\\]\n",
    "$$\\label{maxwell_equations}$$\n",
    "\n",
    "In this tutorial we will generate an ETK thorn to solve [Maxwell's equations](https://en.wikipedia.org/wiki/Maxwell%27s_equations) in flat space using Cartesian coordinates. In [Gaussian](https://en.wikipedia.org/wiki/Gaussian_units) and $c = 1$ units, the system of equations we are interested in is\n",
    "\n",
    "$$\n",
    "\\begin{align}\n",
    "\\vec{\\nabla} \\cdot \\vec{E} &= 0, \\\\\n",
    "\\vec{\\nabla} \\cdot \\vec{B} &= 0, \\\\\n",
    "\\frac{\\partial \\vec{E}}{\\partial t} &= \\vec{\\nabla} \\times \\vec{B}, \\\\\n",
    "\\frac{\\partial \\vec{B}}{\\partial t} &= -\\vec{\\nabla} \\times \\vec{E},\n",
    "\\end{align}\n",
    "$$\n",
    "\n",
    "where $\\vec{E}$ is the electric field, $\\vec{B}$ is the magnetic field, and $\\vec{\\nabla}\\cdot\\vec{V}$ and $\\vec{\\nabla}\\times\\vec{V}$ are the divergence and the curl of the vector $\\vec{V}$, respectively.\n",
    "\n",
    "The last two equations involve time derivatives of $\\vec{E}$ and $\\vec{B}$ and therefore are referred to as *evolution* equations. The first two equations must be satisfied for all times, and are referred to as *constraint* equations."
   ]
  },
  {
   "cell_type": "markdown",
   "id": "613186bf",
   "metadata": {},
   "source": [
    "<hr style=\"width:100%;height:3px;color:black\"/>\n",
    "\n",
    "<a id='potential_formulation_maxwell_equations'></a>\n",
    "\n",
    "## Step 0.b: Potential formulation of Maxwell's equations \\[Back to [top](#toc)\\]\n",
    "$$\\label{potential_formulation_maxwell_equations}$$\n",
    "\n",
    "A formulation of Maxwell's equations that is particularly useful for numerical integration can be found by introducing auxiliary variables. We start by introducing a new vector quantity, $\\vec{A}$, known as the *magnetic* or *vector* potential, such that\n",
    "\n",
    "$$\n",
    "\\vec{B} = \\vec{\\nabla}\\times\\vec{A}.\n",
    "$$\n",
    "\n",
    "Note that the \"no-magnetic monopole\" constraint is automatically satisfied:\n",
    "\n",
    "$$\n",
    "\\vec{\\nabla} \\cdot \\vec{B} = \\vec{\\nabla} \\cdot \\bigl(\\vec{\\nabla}\\times\\vec{A}\\bigr) = 0.\n",
    "$$\n",
    "\n",
    "[Ampère's law](https://en.wikipedia.org/wiki/Ampère%27s_circuital_law), which is the evolution equation for $\\vec{B}$, can then be written as\n",
    "\n",
    "$$\n",
    "\\frac{\\partial}{\\partial t}\\bigl(\\vec{\\nabla}\\times\\vec{A}\\bigr) = -\\vec{\\nabla} \\times \\vec{E} \\implies \\vec{\\nabla}\\times\\left(\\frac{\\partial\\vec{A}}{\\partial t} + \\vec{E}\\right) = 0 \\implies \\frac{\\partial\\vec{A}}{\\partial t} + \\vec{E} = -\\vec{\\nabla}\\phi,\n",
    "$$\n",
    "\n",
    "where $\\phi$ is an arbitrary scalar function known as the *electric* (or *scalar*) potential. Finally, [Faraday's law](https://en.wikipedia.org/wiki/Faraday%27s_law_of_induction), the evolution equation for $\\vec{E}$, can be written as\n",
    "\n",
    "$$\n",
    "\\frac{\\partial\\vec{E}}{\\partial t} = \\vec{\\nabla}\\times\\bigl(\\vec{\\nabla}\\times\\vec{A}\\bigr) = -\\nabla^{2}\\vec{A} + \\vec{\\nabla}\\bigl(\\vec{\\nabla}\\cdot\\vec{A}\\bigr).\n",
    "$$\n",
    "\n",
    "Thus Maxwell's equations now read\n",
    "\n",
    "$$\n",
    "\\begin{align}\n",
    "\\vec{\\nabla} \\cdot \\vec{E} &= 0, \\\\\n",
    "\\frac{\\partial\\vec{E}}{\\partial t} &= -\\nabla^{2}\\vec{A} + \\vec{\\nabla}\\bigl(\\vec{\\nabla}\\cdot\\vec{A}\\bigr),\\\\\n",
    "\\frac{\\partial\\vec{A}}{\\partial t} &= -\\vec{E} - \\vec{\\nabla}\\phi.\n",
    "\\end{align}\n",
    "$$\n",
    "\n",
    "Note that we now end up with 7 dynamical fields, namely $\\left(\\phi,\\vec{A},\\vec{E}\\right)$, but only 6 evolution equations. We can remedy this by adopting a particular gauge. We will choose here the [Lorenz gauge](https://en.wikipedia.org/wiki/Lorenz_gauge_condition), which reads\n",
    "\n",
    "$$\n",
    "\\frac{\\partial\\phi}{\\partial t} = -\\vec{\\nabla}\\cdot\\vec{A}.\n",
    "$$\n",
    "\n",
    "Thus we arrive at the evolution equations\n",
    "\n",
    "$$\n",
    "\\boxed{\n",
    "\\begin{align}\n",
    "\\frac{\\partial\\vec{E}}{\\partial t} &= -\\nabla^{2}\\vec{A} + \\vec{\\nabla}\\bigl(\\vec{\\nabla}\\cdot\\vec{A}\\bigr)\\\\\n",
    "\\frac{\\partial\\vec{A}}{\\partial t} &= -\\vec{E} - \\vec{\\nabla}\\phi\\\\\n",
    "\\frac{\\partial\\phi}{\\partial t} &= -\\vec{\\nabla}\\cdot\\vec{A}\n",
    "\\end{align}\n",
    "}\\ ,\n",
    "$$\n",
    "\n",
    "plus the constraints\n",
    "\n",
    "$$\n",
    "\\boxed{ \\vec{\\mathcal{C}} \\equiv \\vec{\\nabla} \\cdot \\vec{E} = 0}\\ ,\n",
    "$$\n",
    "\n",
    "which must be satisfied at all times."
   ]
  },
  {
   "cell_type": "markdown",
   "id": "6a73bd68",
   "metadata": {},
   "source": [
    "<hr style=\"width:100%;height:3px;color:black\"/>\n",
    "\n",
    "<a id='hyperbolicity_maxwell_equations'></a>\n",
    "\n",
    "## Step 0.c: Improving the hyperbolicity of Maxwell's equations \\[Back to [top](#toc)\\]\n",
    "$$\\label{hyperbolicity_maxwell_equations}$$\n",
    "\n",
    "If we take a time derivative of the evolution equation for the vector potential and plug in the evolution equation for the electric field and the scalar potential we find\n",
    "\n",
    "$$\n",
    "\\frac{\\partial^{2}\\vec{A}}{\\partial t^{2}} = -\\frac{\\partial\\vec{E}}{\\partial t} - \\vec{\\nabla}\\left(\\frac{\\partial\\phi}{\\partial t}\\right) = \\nabla^{2}\\vec{A} - \\vec{\\nabla}\\bigl(\\vec{\\nabla}\\cdot\\vec{A}\\bigr) - \\vec{\\nabla}\\left(\\frac{\\partial\\phi}{\\partial t}\\right).\n",
    "$$\n",
    "\n",
    "Notice that this is almost a wave equation for the vector potential $\\vec{A}$, but we have a mixed derivative term on the right-hand side that spoils this behaviour. We can thus introduce a new auxiliary variable defined as\n",
    "\n",
    "$$\n",
    "\\Gamma \\equiv \\vec{\\nabla}\\cdot\\vec{A},\n",
    "$$\n",
    "\n",
    "so that we have\n",
    "\n",
    "$$\n",
    "\\frac{\\partial^{2}\\vec{A}}{\\partial t^{2}} = \\nabla^{2}\\vec{A} - \\vec{\\nabla}\\Gamma - \\vec{\\nabla}\\left(\\frac{\\partial\\phi}{\\partial t}\\right).\n",
    "$$\n",
    "\n",
    "The resulting system of equations now becomes\n",
    "\n",
    "$$\n",
    "\\boxed{\n",
    "\\begin{align}\n",
    "\\frac{\\partial\\vec{E}}{\\partial t} &= -\\nabla^{2}\\vec{A} + \\vec{\\nabla}\\Gamma\\\\\n",
    "\\frac{\\partial\\vec{A}}{\\partial t} &= -\\vec{E} - \\vec{\\nabla}\\phi\\\\\n",
    "\\frac{\\partial\\phi}{\\partial t} &= -\\Gamma\\\\\n",
    "\\frac{\\partial\\Gamma}{\\partial t} &= -\\nabla^{2}\\phi\n",
    "\\end{align}\n",
    "}\\ ,\n",
    "$$\n",
    "\n",
    "while the constraints that must satisfied are\n",
    "\n",
    "$$\n",
    "\\boxed{\n",
    "\\begin{align}\n",
    "\\vec{\\mathcal{C}} &\\equiv \\vec{\\nabla} \\cdot \\vec{E} = 0\\\\\n",
    "\\mathcal{K} &\\equiv \\Gamma - \\vec{\\nabla}\\cdot\\vec{A} = 0\n",
    "\\end{align}\n",
    "}\\ .\n",
    "$$"
   ]
  },
  {
   "cell_type": "markdown",
   "id": "3c8b5917",
   "metadata": {},
   "source": [
    "<hr style=\"width:100%;height:3px;color:black\"/>\n",
    "\n",
    "<a id='systems_I_and_II'></a>\n",
    "\n",
    "## Step 0.d: Systems I & II \\[Back to [top](#toc)\\]\n",
    "$$\\label{systems_I_and_II}$$\n",
    "\n",
    "Switching to index notation, we write\n",
    "\n",
    "$$\n",
    "\\frac{\\partial}{\\partial t} \\equiv \\partial_{t}\\ ;\\ \\frac{\\partial}{\\partial x^{i}} \\equiv \\partial_{i},\n",
    "$$\n",
    "\n",
    "where $\\vec{x} \\equiv x^{i} = (x,y,z)$. We thus have\n",
    "\n",
    "$$\n",
    "\\text{System I:}\\ \n",
    "\\boxed{\n",
    "\\begin{align}\n",
    "\\partial_{t}E^{i} &= -\\partial^{j}\\partial_{j}A^{i} + \\partial^{i}\\partial_{j}A^{j}\\\\\n",
    "\\partial_{t}A^{i} &= -E^{i} - \\partial^{i}\\phi\\\\\n",
    "\\partial_{t}\\phi  &= -\\partial_{i}A^{i}\\\\\n",
    "\\partial_{i}E^{i} &= 0\n",
    "\\end{align}\n",
    "}\n",
    "\\ ,\n",
    "$$\n",
    "\n",
    "and\n",
    "\n",
    "$$\n",
    "\\text{System II:}\\ \n",
    "\\boxed{\n",
    "\\begin{align}\n",
    "\\partial_{t}E^{i} &= -\\partial^{j}\\partial_{j}A^{i} + \\partial^{i}\\Gamma\\\\\n",
    "\\partial_{t}A^{i} &= -E^{i} - \\partial^{i}\\phi\\\\\n",
    "\\partial_{t}\\phi &= -\\Gamma\\\\\n",
    "\\partial_{t}\\Gamma &= -\\partial^{i}\\partial_{i}\\phi\\\\\n",
    "\\partial_{i}E^{i} &= 0\\\\\n",
    "\\Gamma &= \\partial_{i}A^{i}\n",
    "\\end{align}\n",
    "}\\ .\n",
    "$$"
   ]
  },
  {
   "cell_type": "markdown",
   "id": "b758ac17",
   "metadata": {},
   "source": [
    "<hr style=\"width:100%;height:3px;color:black\"/>\n",
    "\n",
    "<a id='implementation'></a>\n",
    "\n",
    "# Step 1: Part I - Implementation of the core equations in Curvilinear coordinates \\[Back to [top](#toc)\\]\n",
    "$$\\label{implementation}$$"
   ]
  },
  {
   "cell_type": "markdown",
   "id": "d8231c14",
   "metadata": {},
   "source": [
    "<a id='initializenrpy'></a>\n",
    "\n",
    "## Step 1.a: Initialize core Python/NRPy+ modules \\[Back to [top](#toc)\\]\n",
    "$$\\label{initializenrpy}$$\n",
    "\n",
    "Let's start by importing all the needed modules from NRPy+:"
   ]
  },
  {
   "cell_type": "code",
   "execution_count": 1,
   "id": "1c11180a",
   "metadata": {},
   "outputs": [],
   "source": [
    "# Step 1.a: Import core Python/NRPy+ modules\n",
    "# Step 1.a.i: Import needed Python modules\n",
    "import shutil, os, sys # Standard Python modules for multiplatform OS-level functions\n",
    "\n",
    "# Step 1.a.ii: Add the \"nrpy_core\" directory to the path\n",
    "base_dir      = os.getcwd()\n",
    "nrpy_core_dir = os.path.join(base_dir,\"nrpy_core\")\n",
    "sys.path.append(nrpy_core_dir)\n",
    "\n",
    "# Step 1.b: Load needed NRPy+ modules\n",
    "import cmdline_helper as cmd # NRPy+: Multi-platform Python command-line interface"
   ]
  },
  {
   "cell_type": "markdown",
   "id": "4a84bfe6",
   "metadata": {},
   "source": [
    "<a id='equations'></a>\n",
    "\n",
    "## Step 1.b: The equations \\[Back to [top](#toc)\\]\n",
    "$$\\label{equations}$$"
   ]
  },
  {
   "cell_type": "markdown",
   "id": "746d90c3",
   "metadata": {},
   "source": [
    "<a id='c_code_generation'></a>\n",
    "\n",
    "## Step 1.c: Generating C code kernels from the symbolic expressions \\[Back to [top](#toc)\\]\n",
    "$$\\label{c_code_generation}$$"
   ]
  },
  {
   "cell_type": "markdown",
   "id": "27c17a71",
   "metadata": {},
   "source": [
    "<hr style=\"width:100%;height:3px;color:black\"/>\n",
    "\n",
    "<a id='thorn_writing'></a>\n",
    "\n",
    "# Step 2: Part II - Einstein Toolkit thorn writing \\[Back to [top](#toc)\\]\n",
    "$$\\label{thorn_writing}$$"
   ]
  },
  {
   "cell_type": "markdown",
   "id": "fe191fc7",
   "metadata": {},
   "source": [
    "<a id='main_function'></a>\n",
    "\n",
    "## Step 2.a: The thorn's driver/main function \\[Back to [top](#toc)\\]\n",
    "$$\\label{main_function}$$"
   ]
  },
  {
   "cell_type": "markdown",
   "id": "579637f5",
   "metadata": {},
   "source": [
    "<a id='ccl_files'></a>\n",
    "\n",
    "## Step 2.b: Thorn configuration files \\[Back to [top](#toc)\\]\n",
    "$$\\label{ccl_files}$$"
   ]
  },
  {
   "cell_type": "markdown",
   "id": "2c2f5381",
   "metadata": {},
   "source": [
    "<a id='param_ccl'></a>\n",
    "\n",
    "### Step 2.b.i: Generating the `param.ccl` file \\[Back to [top](#toc)\\]\n",
    "$$\\label{param_ccl}$$"
   ]
  },
  {
   "cell_type": "markdown",
   "id": "6ddcfd35",
   "metadata": {},
   "source": [
    "<a id='interface_ccl'></a>\n",
    "\n",
    "### Step 2.b.ii: Generating the `interface.ccl` file \\[Back to [top](#toc)\\]\n",
    "$$\\label{interface_ccl}$$"
   ]
  },
  {
   "cell_type": "markdown",
   "id": "1ebd4e85",
   "metadata": {},
   "source": [
    "<a id='schedule_ccl'></a>\n",
    "\n",
    "### Step 2.b.iii: Generating the `schedule.ccl` file \\[Back to [top](#toc)\\]\n",
    "$$\\label{schedule_ccl}$$"
   ]
  },
  {
   "cell_type": "markdown",
   "id": "2b41902d",
   "metadata": {},
   "source": [
    "<a id='configuration_ccl'></a>\n",
    "\n",
    "### Step 2.b.iv: Generating the `configuration.ccl` file \\[Back to [top](#toc)\\]\n",
    "$$\\label{configuration_ccl}$$"
   ]
  },
  {
   "cell_type": "markdown",
   "id": "520f05ec",
   "metadata": {},
   "source": [
    "<a id='make_code_defn'></a>\n",
    "\n",
    "### Step 2.b.v: Generating the `make.code.defn` file \\[Back to [top](#toc)\\]\n",
    "$$\\label{make_code_defn}$$"
   ]
  },
  {
   "cell_type": "markdown",
   "id": "8902c5f6",
   "metadata": {},
   "source": [
    "<hr style=\"width:100%;height:3px;color:black\"/>\n",
    "\n",
    "<a id='results'></a>\n",
    "\n",
    "# Step 3: Part III - Results \\[Back to [top](#toc)\\]\n",
    "$$\\label{results}$$"
   ]
  },
  {
   "cell_type": "markdown",
   "id": "8e2ca15e",
   "metadata": {},
   "source": [
    "<hr style=\"width:100%;height:3px;color:black\"/>\n",
    "\n",
    "<a id='latex_pdf_output'></a>\n",
    "\n",
    "# Step 4: Output this notebook to $\\LaTeX$-formatted PDF file \\[Back to [top](#toc)\\]\n",
    "$$\\label{latex_pdf_output}$$\n",
    "\n",
    "The following code cell converts this Jupyter notebook into a proper, clickable $\\LaTeX$-formatted PDF file. After the cell is successfully run, the generated PDF may be found in the root NRPy+ tutorial directory, with filename\n",
    "[ETK_Workshop_2021-NRPy_tutorial.pdf](ETK_Workshop_2021-NRPy_tutorial.pdf) (Note that clicking on this link may not work; you may need to open the PDF file through another means.)"
   ]
  },
  {
   "cell_type": "code",
   "execution_count": 2,
   "id": "2fe5bb97",
   "metadata": {},
   "outputs": [
    {
     "name": "stdout",
     "output_type": "stream",
     "text": [
      "Created ETK_Workshop_2021-NRPy_tutorial.tex, and compiled LaTeX file to PDF\n",
      "    file ETK_Workshop_2021-NRPy_tutorial.pdf\n"
     ]
    }
   ],
   "source": [
    "# Step 4: Generate a PDF version of this tutorial notebook\n",
    "# Step 4.a: First copy the latex_nrpy_style.tplx from the\n",
    "#           nrpy_core directory to the base directory\n",
    "src_file = os.path.join(nrpy_core_dir,\"latex_nrpy_style.tplx\")\n",
    "dst_file = os.path.join(base_dir     ,\"latex_nrpy_style.tplx\")\n",
    "shutil.copyfile(src_file,dst_file)\n",
    "\n",
    "# Step 4.b: Now generate the PDF file\n",
    "cmd.output_Jupyter_notebook_to_LaTeXed_PDF(\"ETK_Workshop_2021-NRPy_tutorial\")\n",
    "\n",
    "# Step 4.c: Clean up by removing the latex_nrpy_style.tplx from\n",
    "#           the base directory\n",
    "cmd.delete_existing_files(dst_file)"
   ]
  }
 ],
 "metadata": {
  "kernelspec": {
   "display_name": "Python 3",
   "language": "python",
   "name": "python3"
  },
  "language_info": {
   "codemirror_mode": {
    "name": "ipython",
    "version": 3
   },
   "file_extension": ".py",
   "mimetype": "text/x-python",
   "name": "python",
   "nbconvert_exporter": "python",
   "pygments_lexer": "ipython3",
   "version": "3.9.5"
  }
 },
 "nbformat": 4,
 "nbformat_minor": 5
}
