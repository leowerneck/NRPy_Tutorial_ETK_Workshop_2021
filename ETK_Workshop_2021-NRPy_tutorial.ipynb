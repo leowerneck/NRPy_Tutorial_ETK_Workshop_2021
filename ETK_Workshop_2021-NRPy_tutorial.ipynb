{
 "cells": [
  {
   "attachments": {},
   "cell_type": "markdown",
   "id": "db4d0230",
   "metadata": {},
   "source": [
    "# North American Einstein Toolkit School 2021: NRPy+ Tutorial\n",
    "## Authors: Leo Werneck, Zach Etienne, Thiago Assumpção, Terrence Pierre-Jacques, Patrick Nelson\n",
    "\n",
    "<table><tr>\n",
    "    <td style=\"background-color: white;\"> <img src=https://github.com/leowerneck/NRPy_Tutorial_ETK_Workshop_2021/blob/main/logos/WVU.png?raw=true style=\"width: 80px;\"/> </td>\n",
    "    <td style=\"background-color: white;\"> <img src=https://github.com/leowerneck/NRPy_Tutorial_ETK_Workshop_2021/blob/main/logos/Idaho.png?raw=true style=\"width: 250px;\"/> </td>\n",
    "    <td style=\"background-color: white;\"> <img src=https://github.com/leowerneck/NRPy_Tutorial_ETK_Workshop_2021/blob/main/logos/ETK.png?raw=true style=\"width: 125px;\"/> </td>\n",
    "    <td style=\"background-color: white;\"> <img src=https://github.com/leowerneck/NRPy_Tutorial_ETK_Workshop_2021/blob/main/logos/NSF.jpg?raw=true style=\"width: 125px;\"/> </td>\n",
    "</tr></table>"
   ]
  },
  {
   "cell_type": "code",
   "execution_count": null,
   "id": "b1c4fd2d",
   "metadata": {},
   "outputs": [],
   "source": []
  }
 ],
 "metadata": {
  "kernelspec": {
   "display_name": "Python 3",
   "language": "python",
   "name": "python3"
  },
  "language_info": {
   "codemirror_mode": {
    "name": "ipython",
    "version": 3
   },
   "file_extension": ".py",
   "mimetype": "text/x-python",
   "name": "python",
   "nbconvert_exporter": "python",
   "pygments_lexer": "ipython3",
   "version": "3.9.5"
  }
 },
 "nbformat": 4,
 "nbformat_minor": 5
}
