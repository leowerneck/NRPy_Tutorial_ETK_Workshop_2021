{
 "cells": [
  {
   "cell_type": "markdown",
   "id": "db4d0230",
   "metadata": {},
   "source": [
    "# North American Einstein Toolkit School 2021: NRPy+ Tutorial\n",
    "## Authors: Leo Werneck, Zach Etienne, Thiago Assumpção, Terrence Pierre-Jacques, Patrick Nelson\n",
    "\n",
    "<table><tr>\n",
    "    <td style=\"background-color: white;\">\n",
    "        <a href=http://nrpyplus.net>\n",
    "            <img src=https://github.com/leowerneck/NRPy_Tutorial_ETK_Workshop_2021/blob/main/logos/Nerpy.png?raw=true style=\"width: 150px;\" />\n",
    "        </a>\n",
    "     </td>\n",
    "    <td style=\"background-color: white;\"> \n",
    "        <a href=https://www.wvu.edu>\n",
    "            <img src=https://github.com/leowerneck/NRPy_Tutorial_ETK_Workshop_2021/blob/main/logos/WVU.png?raw=true style=\"width: 250px;\"/>\n",
    "        </a>\n",
    "    </td>\n",
    "    <td style=\"background-color: white;\">\n",
    "        <a href=https://www.uidaho.edu>\n",
    "            <img src=https://github.com/leowerneck/NRPy_Tutorial_ETK_Workshop_2021/blob/main/logos/Idaho.png?raw=true style=\"width: 250px;\"/>\n",
    "        </a>\n",
    "    </td>\n",
    "    <td style=\"background-color: white;\">\n",
    "        <a href=https://einsteintoolkit.org>\n",
    "            <img src=https://github.com/leowerneck/NRPy_Tutorial_ETK_Workshop_2021/blob/main/logos/ETK.png?raw=true style=\"width: 125px;\"/>\n",
    "        </a>\n",
    "    </td>\n",
    "    <td style=\"background-color: white;\">\n",
    "        <a href=https://www.nsf.gov>\n",
    "            <img src=https://github.com/leowerneck/NRPy_Tutorial_ETK_Workshop_2021/blob/main/logos/NSF.jpg?raw=true style=\"width: 125px;\"/>\n",
    "        </a>\n",
    "    </td>\n",
    "</tr></table>"
   ]
  },
  {
   "cell_type": "markdown",
   "id": "31d939a8",
   "metadata": {},
   "source": [
    "<a id='toc'></a>\n",
    "\n",
    "# Table of Contents\n",
    "$$\\label{toc}$$\n",
    "\n",
    "This tutorial notebook is organized as follows:\n",
    "\n",
    "0. [Step 0](#introduction): Introduction\n",
    "1. [Step 1](#implementation): Part I - Implementation of the core equations in Curvilinear coordinates\n",
    "    1. [Step 1.a](#initializenrpy): Initialize core Python/NRPy+ modules\n",
    "    1. [Step 1.b](#equations): The equations\n",
    "    1. [Step 1.c](#c_code_generation): Generating C code kernels from the symbolic expressions\n",
    "1. [Step 2](#thorn_writing): Part II - Einstein Toolkit thorn writing\n",
    "    1. [Step 2.a](#main_function): The thorn's driver/main function\n",
    "    1. [Step 2.b](#ccl_files): Thorn configuration files\n",
    "        1. [Step 2.b.i](#param_ccl): Generating the `param.ccl` file\n",
    "        1. [Step 2.b.ii](#interface_ccl): Generating the `interface.ccl` file\n",
    "        1. [Step 2.b.iii](#schedule_ccl): Generating the `schedule.ccl` file\n",
    "        1. [Step 2.b.iv](#configuration_ccl): Generating the `configuration.ccl` file\n",
    "        1. [Step 2.b.v](#make_code_defn): Generating the `make.code.defn` file\n",
    "1. [Step 3](#results): Part III - Results\n",
    "1. [Step 4](#latex_pdf_output): Output this notebook to $\\LaTeX$-formatted PDF file"
   ]
  },
  {
   "cell_type": "markdown",
   "id": "79bfd1cb",
   "metadata": {},
   "source": [
    "<a id='introduction'></a>\n",
    "\n",
    "# Step 0: Introduction \\[Back to [top](#toc)\\]\n",
    "$$\\label{introduction}$$\n",
    "\n",
    "In this tutorial we will provide a hands-on introduction on how to use the [NRPy+ infrastructure](http://nrpyplus.net) to write thorns for the [Einstein Toolkit (ETK)](https://einsteintoolkit.org). Although we will give an overview of NRPy+ and provide a high level description of some of its modules, we do not aim to thoroughly describe every aspect of the infrastructure. For more details on NRPy+'s inner workings, we refer the reader to:\n",
    "\n",
    "* [NRPy+'s extensive & pedagogical documentation](https://mybinder.org/v2/gh/zachetienne/nrpytutorial/master?filepath=NRPyPlus_Tutorial.ipynb)\n",
    "* [NRPy+ tutorial from the 2020 ETK workshop by Zach Etienne](https://www.youtube.com/watch?v=TIPiW5-mPOM)"
   ]
  },
  {
   "cell_type": "markdown",
   "id": "0a5d888c",
   "metadata": {},
   "source": [
    "<hr style=\"width:100%;height:3px;color:black\"/>\n",
    "\n",
    "<a id='implementation'></a>\n",
    "\n",
    "# Step 1: Part I - Implementation of the core equations in Curvilinear coordinates \\[Back to [top](#toc)\\]\n",
    "$$\\label{implementation}$$"
   ]
  },
  {
   "cell_type": "markdown",
   "id": "44256ed1",
   "metadata": {},
   "source": [
    "<a id='initializenrpy'></a>\n",
    "\n",
    "## Step 1.a: Initialize core Python/NRPy+ modules \\[Back to [top](#toc)\\]\n",
    "$$\\label{initializenrpy}$$\n",
    "\n",
    "Let's start by importing all the needed modules from NRPy+:"
   ]
  },
  {
   "cell_type": "code",
   "execution_count": 1,
   "id": "27c56aa6",
   "metadata": {},
   "outputs": [],
   "source": [
    "# Step 1.a: Import core Python/NRPy+ modules\n",
    "# Step 1.a.i: Import needed Python modules\n",
    "import shutil, os, sys # Standard Python modules for multiplatform OS-level functions\n",
    "\n",
    "# Step 1.a.ii: Add the \"nrpy_core\" directory to the path\n",
    "base_dir      = os.getcwd()\n",
    "nrpy_core_dir = os.path.join(base_dir,\"nrpy_core\")\n",
    "sys.path.append(nrpy_core_dir)\n",
    "\n",
    "# Step 1.b: Load needed NRPy+ modules\n",
    "import cmdline_helper as cmd # NRPy+: Multi-platform Python command-line interface"
   ]
  },
  {
   "cell_type": "markdown",
   "id": "a80f7a2e",
   "metadata": {},
   "source": [
    "<a id='equations'></a>\n",
    "\n",
    "## Step 1.b: The equations \\[Back to [top](#toc)\\]\n",
    "$$\\label{equations}$$"
   ]
  },
  {
   "cell_type": "markdown",
   "id": "623ccbba",
   "metadata": {},
   "source": [
    "<a id='c_code_generation'></a>\n",
    "\n",
    "## Step 1.c: Generating C code kernels from the symbolic expressions \\[Back to [top](#toc)\\]\n",
    "$$\\label{c_code_generation}$$"
   ]
  },
  {
   "cell_type": "markdown",
   "id": "4eeadd94",
   "metadata": {},
   "source": [
    "<hr style=\"width:100%;height:3px;color:black\"/>\n",
    "\n",
    "<a id='thorn_writing'></a>\n",
    "\n",
    "# Step 2: Part II - Einstein Toolkit thorn writing \\[Back to [top](#toc)\\]\n",
    "$$\\label{thorn_writing}$$"
   ]
  },
  {
   "cell_type": "markdown",
   "id": "341e0f82",
   "metadata": {},
   "source": [
    "<a id='main_function'></a>\n",
    "\n",
    "## Step 2.a: The thorn's driver/main function \\[Back to [top](#toc)\\]\n",
    "$$\\label{main_function}$$"
   ]
  },
  {
   "cell_type": "markdown",
   "id": "72a978b5",
   "metadata": {},
   "source": [
    "<a id='ccl_files'></a>\n",
    "\n",
    "## Step 2.b: Thorn configuration files \\[Back to [top](#toc)\\]\n",
    "$$\\label{ccl_files}$$"
   ]
  },
  {
   "cell_type": "markdown",
   "id": "18f22ca1",
   "metadata": {},
   "source": [
    "<a id='param_ccl'></a>\n",
    "\n",
    "### Step 2.b.i: Generating the `param.ccl` file \\[Back to [top](#toc)\\]\n",
    "$$\\label{param_ccl}$$"
   ]
  },
  {
   "cell_type": "markdown",
   "id": "0346ba91",
   "metadata": {},
   "source": [
    "<a id='interface_ccl'></a>\n",
    "\n",
    "### Step 2.b.ii: Generating the `interface.ccl` file \\[Back to [top](#toc)\\]\n",
    "$$\\label{interface_ccl}$$"
   ]
  },
  {
   "cell_type": "markdown",
   "id": "3eeaf949",
   "metadata": {},
   "source": [
    "<a id='schedule_ccl'></a>\n",
    "\n",
    "### Step 2.b.iii: Generating the `schedule.ccl` file \\[Back to [top](#toc)\\]\n",
    "$$\\label{schedule_ccl}$$"
   ]
  },
  {
   "cell_type": "markdown",
   "id": "5df6f60f",
   "metadata": {},
   "source": [
    "<a id='configuration_ccl'></a>\n",
    "\n",
    "### Step 2.b.iv: Generating the `configuration.ccl` file \\[Back to [top](#toc)\\]\n",
    "$$\\label{configuration_ccl}$$"
   ]
  },
  {
   "cell_type": "markdown",
   "id": "d36b1790",
   "metadata": {},
   "source": [
    "<a id='make_code_defn'></a>\n",
    "\n",
    "### Step 2.b.v: Generating the `make.code.defn` file \\[Back to [top](#toc)\\]\n",
    "$$\\label{make_code_defn}$$"
   ]
  },
  {
   "cell_type": "markdown",
   "id": "f8eebc68",
   "metadata": {},
   "source": [
    "<hr style=\"width:100%;height:3px;color:black\"/>\n",
    "\n",
    "<a id='results'></a>\n",
    "\n",
    "# Step 3: Part III - Results \\[Back to [top](#toc)\\]\n",
    "$$\\label{results}$$"
   ]
  },
  {
   "cell_type": "markdown",
   "id": "9eabaaf0",
   "metadata": {},
   "source": [
    "<hr style=\"width:100%;height:3px;color:black\"/>\n",
    "\n",
    "<a id='latex_pdf_output'></a>\n",
    "\n",
    "# Step 4: Output this notebook to $\\LaTeX$-formatted PDF file \\[Back to [top](#toc)\\]\n",
    "$$\\label{latex_pdf_output}$$\n",
    "\n",
    "The following code cell converts this Jupyter notebook into a proper, clickable $\\LaTeX$-formatted PDF file. After the cell is successfully run, the generated PDF may be found in the root NRPy+ tutorial directory, with filename\n",
    "[ETK_Workshop_2021-NRPy_tutorial.pdf](ETK_Workshop_2021-NRPy_tutorial.pdf) (Note that clicking on this link may not work; you may need to open the PDF file through another means.)"
   ]
  },
  {
   "cell_type": "code",
   "execution_count": 2,
   "id": "e4df4738",
   "metadata": {},
   "outputs": [
    {
     "name": "stdout",
     "output_type": "stream",
     "text": [
      "Created ETK_Workshop_2021-NRPy_tutorial.tex, and compiled LaTeX file to PDF\n",
      "    file ETK_Workshop_2021-NRPy_tutorial.pdf\n"
     ]
    }
   ],
   "source": [
    "# Step 4: Generate a PDF version of this tutorial notebook\n",
    "# Step 4.a: First copy the latex_nrpy_style.tplx from the\n",
    "#           nrpy_core directory to the base directory\n",
    "src_file = os.path.join(nrpy_core_dir,\"latex_nrpy_style.tplx\")\n",
    "dst_file = os.path.join(base_dir     ,\"latex_nrpy_style.tplx\")\n",
    "shutil.copyfile(src_file,dst_file)\n",
    "\n",
    "# Step 4.b: Now generate the PDF file\n",
    "cmd.output_Jupyter_notebook_to_LaTeXed_PDF(\"ETK_Workshop_2021-NRPy_tutorial\")\n",
    "\n",
    "# Step 4.c: Clean up by removing the latex_nrpy_style.tplx from\n",
    "#           the base directory\n",
    "cmd.delete_existing_files(dst_file)"
   ]
  }
 ],
 "metadata": {
  "kernelspec": {
   "display_name": "Python 3",
   "language": "python",
   "name": "python3"
  },
  "language_info": {
   "codemirror_mode": {
    "name": "ipython",
    "version": 3
   },
   "file_extension": ".py",
   "mimetype": "text/x-python",
   "name": "python",
   "nbconvert_exporter": "python",
   "pygments_lexer": "ipython3",
   "version": "3.9.5"
  }
 },
 "nbformat": 4,
 "nbformat_minor": 5
}
